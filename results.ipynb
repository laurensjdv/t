{
 "cells": [
  {
   "cell_type": "code",
   "execution_count": 1,
   "metadata": {},
   "outputs": [
    {
     "name": "stderr",
     "output_type": "stream",
     "text": [
      "IProgress not found. Please update jupyter and ipywidgets. See https://ipywidgets.readthedocs.io/en/stable/user_install.html\n"
     ]
    }
   ],
   "source": [
    "import scipy.stats as stats\n",
    "from scipy.interpolate import BSpline\n",
    "\n",
    "import numpy as np\n",
    "import pandas as pd\n",
    "import matplotlib.pyplot as plt\n",
    "import os\n",
    "import shap\n",
    "\n",
    "\n",
    "from efficient_kan import KAN\n",
    "from models.mlp import MLP\n",
    "from sklearn import svm\n",
    "\n",
    "\n",
    "import torch\n",
    "import torch.nn as nn\n",
    "\n",
    "from kan.utils import create_dataset\n",
    "from dataloaders.dataloader import FCMatrixDataset\n",
    "from torch.utils.data import Dataset, DataLoader, Subset\n",
    "\n",
    "DEVICE = torch.device(\"cuda\" if torch.cuda.is_available() else \"cpu\")\n",
    "DEVICE = torch.device(\"cpu\")\n"
   ]
  },
  {
   "cell_type": "code",
   "execution_count": 2,
   "metadata": {},
   "outputs": [
    {
     "ename": "ModuleNotFoundError",
     "evalue": "No module named 'kan'",
     "output_type": "error",
     "traceback": [
      "\u001b[0;31m---------------------------------------------------------------------------\u001b[0m",
      "\u001b[0;31mModuleNotFoundError\u001b[0m                       Traceback (most recent call last)",
      "Input \u001b[0;32mIn [2]\u001b[0m, in \u001b[0;36m<cell line: 23>\u001b[0;34m()\u001b[0m\n\u001b[1;32m     20\u001b[0m \u001b[38;5;28;01mimport\u001b[39;00m \u001b[38;5;21;01mtorch\u001b[39;00m\n\u001b[1;32m     21\u001b[0m \u001b[38;5;28;01mimport\u001b[39;00m \u001b[38;5;21;01mtorch\u001b[39;00m\u001b[38;5;21;01m.\u001b[39;00m\u001b[38;5;21;01mnn\u001b[39;00m \u001b[38;5;28;01mas\u001b[39;00m \u001b[38;5;21;01mnn\u001b[39;00m\n\u001b[0;32m---> 23\u001b[0m \u001b[38;5;28;01mfrom\u001b[39;00m \u001b[38;5;21;01mkan\u001b[39;00m\u001b[38;5;21;01m.\u001b[39;00m\u001b[38;5;21;01mutils\u001b[39;00m \u001b[38;5;28;01mimport\u001b[39;00m create_dataset\n\u001b[1;32m     24\u001b[0m \u001b[38;5;28;01mfrom\u001b[39;00m \u001b[38;5;21;01mdataloaders\u001b[39;00m\u001b[38;5;21;01m.\u001b[39;00m\u001b[38;5;21;01mdataloader\u001b[39;00m \u001b[38;5;28;01mimport\u001b[39;00m FCMatrixDataset\n\u001b[1;32m     25\u001b[0m \u001b[38;5;28;01mfrom\u001b[39;00m \u001b[38;5;21;01mtorch\u001b[39;00m\u001b[38;5;21;01m.\u001b[39;00m\u001b[38;5;21;01mutils\u001b[39;00m\u001b[38;5;21;01m.\u001b[39;00m\u001b[38;5;21;01mdata\u001b[39;00m \u001b[38;5;28;01mimport\u001b[39;00m Dataset, DataLoader, Subset\n",
      "\u001b[0;31mModuleNotFoundError\u001b[0m: No module named 'kan'"
     ]
    }
   ],
   "source": [
    "import scipy.stats as stats\n",
    "from scipy.interpolate import BSpline\n",
    "\n",
    "import numpy as np\n",
    "import pandas as pd\n",
    "import matplotlib.pyplot as plt\n",
    "import os\n",
    "import shap\n",
    "\n",
    "\n",
    "from models.mlp import MLP\n",
    "from models.GCN import GCN\n",
    "\n",
    "\n",
    "from sklearn import svm\n",
    "\n",
    "\n",
    "\n",
    "\n",
    "import torch\n",
    "import torch.nn as nn\n",
    "\n",
    "from kan.utils import create_dataset\n",
    "from dataloaders.dataloader import FCMatrixDataset\n",
    "from torch.utils.data import Dataset, DataLoader, Subset\n",
    "\n",
    "DEVICE = torch.device(\"cuda\" if torch.cuda.is_available() else \"cpu\")\n",
    "DEVICE = torch.device(\"cpu\")"
   ]
  },
  {
   "cell_type": "code",
   "execution_count": 6,
   "metadata": {},
   "outputs": [
    {
     "name": "stdout",
     "output_type": "stream",
     "text": [
      "dict_values([<Project laurens-devries/severe_rds_v2_MLP>, <Project laurens-devries/severe_rds_v2_KAN_api>, <Project laurens-devries/severe_rds_v2_SVM>])\n"
     ]
    }
   ],
   "source": [
    "import wandb\n",
    "wandb.login()\n",
    "\n",
    "mlp_project = \"severe_rds_v2_MLP\"\n",
    "# gcn_project = \"severe_rds_v2_GCN\"\n",
    "kan_project = \"severe_rds_v2_KAN_api\"\n",
    "svm_project = \"severe_rds_v2_SVM\"\n",
    "\n",
    "# mlp_project = \"rds_under_8_severe_v2_MLP\"\n",
    "# gcn_project = \"rds_under_8_severe_v2_GCN\"\n",
    "# kan_project = \"rds_under_8_severe_v2_KAN_api\"\n",
    "# svm_project = \"rds_under_8_severe_v2_SVM\"\n",
    "\n",
    "api = wandb.Api()\n",
    "\n",
    "# projects = {\"MLP\": api.project(mlp_project), \"GCN\": api.project(gcn_project), \"SVM\": api.project(svm_project)}\n",
    "projects = {\"MLP\": api.project(mlp_project), \"KAN\": api.project(kan_project), \"SVM\": api.project(svm_project)}\n",
    "\n",
    "print(projects.values())\n",
    "\n",
    "all_sweeps = {}\n",
    "for name, project in projects.items():\n",
    "    all_sweeps[name] = [api.sweep(f\"{project.name}/{sweep.id}\") for sweep in project.sweeps()]\n",
    "\n",
    "all_runs = {project_name: {sweep.id:sweep.runs for sweep in sweeps} for (project_name, sweeps) in all_sweeps.items()}\n",
    "\n",
    "\n",
    "all_best_runs = {}\n",
    "\n",
    "for name, sweeps in all_runs.items():\n",
    "    project_sweeps = {}\n",
    "    for (sweep_name, sweep) in sweeps.items():\n",
    "        best_run = None\n",
    "        best_acc = -1\n",
    "        for run in sweep:\n",
    "\n",
    "            ACC = run.summary.get(\"ACC\")\n",
    "            if ACC is not None and ACC > best_acc:\n",
    "                best_run = run\n",
    "                best_acc = ACC\n",
    "        project_sweeps[sweep_name] = best_run\n",
    "    all_best_runs[name] = project_sweeps\n",
    "\n",
    "\n",
    "# for name, runs in all_runs.items():\n",
    "#     print(runs)\n",
    "#     best_run = None\n",
    "#     best_acc = -1\n",
    "#     for run in runs:\n",
    "#         ACC = run.summary.get(\"ACC\")\n",
    "#         if ACC is not None and ACC > best_acc:\n",
    "#             best_run = run\n",
    "#             best_acc = ACC\n",
    "\n",
    "\n"
   ]
  },
  {
   "cell_type": "code",
   "execution_count": 7,
   "metadata": {},
   "outputs": [
    {
     "name": "stdout",
     "output_type": "stream",
     "text": [
      "MLP 59.3 8.4 59.2 8.6\n",
      "{'udi': 25751, 'mrmr': False, 'epochs': 25, 'dropout': 0.5635715546225145, 'n_layers': 1, 'optimizer': 'Adam', 'batch_size': 96, 'layer_size': 128, 'learning_rate': 0.00027037757777460727, 'hidden_dim_ratio': 0.125}\n",
      "MLP\n",
      "quiet-sweep-63\n",
      "MLP 81.3 5.5 81.3 5.4\n",
      "{'udi': 25751, 'mrmr': True, 'epochs': 25, 'dropout': 0.048468507432266786, 'n_layers': 3, 'optimizer': 'Adam', 'batch_size': 136, 'layer_size': 224, 'learning_rate': 0.0005185898072119435, 'hidden_dim_ratio': 0.25}\n",
      "MLP\n",
      "whole-sweep-32\n",
      "MLP 83.9 6.6 83.8 6.7\n",
      "{'udi': 25751, 'mrmr': True, 'epochs': 25, 'dropout': 0.5116486587155684, 'n_layers': 1, 'optimizer': 'Adam', 'batch_size': 104, 'layer_size': 160, 'learning_rate': 0.0006777949873387725, 'hidden_dim_ratio': 0.25}\n",
      "MLP\n",
      "earnest-sweep-111\n",
      "KAN 56.5 12.2 56.4 12.1\n",
      "{'udi': 25751, 'lamb': 0.1, 'mrmr': False, 'epochs': 25, 'n_layers': 1, 'grid_size': 3, 'optimizer': 'LBFGS', 'layer_size': 64, 'lamb_entropy': 2, 'learning_rate': 0.005955667351575727, 'hidden_dim_ratio': 0.25}\n",
      "KAN\n",
      "honest-sweep-45\n",
      "KAN 60.7 8.4 60.9 8.4\n",
      "{'udi': 25751, 'lamb': 0.1, 'mrmr': False, 'epochs': 25, 'n_layers': 1, 'grid_size': 3, 'optimizer': 'Adam', 'layer_size': 64, 'lamb_entropy': 2, 'learning_rate': 0.0005597782419168832, 'hidden_dim_ratio': 0.25}\n",
      "KAN\n",
      "glorious-sweep-83\n",
      "KAN 75.9 7.0 75.8 7.0\n",
      "{'udi': 25751, 'lamb': 0.1, 'mrmr': True, 'epochs': 25, 'n_layers': 1, 'grid_size': 5, 'optimizer': 'LBFGS', 'layer_size': 8, 'lamb_entropy': 0, 'learning_rate': 0.007869129388611852, 'hidden_dim_ratio': 0.5}\n",
      "KAN\n",
      "daily-sweep-67\n",
      "KAN 79.7 8.4 79.7 8.4\n",
      "{'udi': 25751, 'lamb': 1, 'mrmr': True, 'epochs': 25, 'n_layers': 1, 'grid_size': 5, 'optimizer': 'Adam', 'layer_size': 8, 'lamb_entropy': 0, 'learning_rate': 0.0037432269050732287, 'hidden_dim_ratio': 0.5}\n",
      "KAN\n",
      "lunar-sweep-101\n",
      "SVM 54.7 11.7 54.8 11.8\n",
      "{'C': 0.1, 'udi': 25751, 'mrmr': False, 'gamma': 0.1, 'degree': 4, 'kernel': 'linear'}\n",
      "SVM\n",
      "bright-sweep-399\n",
      "SVM 79.2 7.9 79.1 7.9\n",
      "{'C': 1, 'udi': 25751, 'mrmr': True, 'gamma': 0.001, 'degree': 4, 'kernel': 'sigmoid'}\n",
      "SVM\n",
      "good-sweep-386\n"
     ]
    }
   ],
   "source": [
    "for model in all_best_runs.keys():\n",
    "    for run in all_best_runs[model].values():\n",
    "        # print(model, run.summary.get(\"ACC\"), run.summary.get(\"ACC std\"), run.summary.get(\"AUC\"), run.summary.get(\"AUC std\"))\n",
    "        # print the line above but multiply by 100 and round to get 1 decimal\n",
    "        print(model, round(run.summary.get(\"ACC\")*100, 1), round(run.summary.get(\"ACC std\")*100, 1), round(run.summary.get(\"AUC\")*100, 1), round(run.summary.get(\"AUC std\")*100, 1))\n",
    "        # print(f\"{model}: {run.summary.get('ACC')}\")\n",
    "        print(run.config)\n",
    "        print(model)\n",
    "        print(run.name)\n",
    "\n",
    "        test_acc = run.history()['test_acc']\n",
    "        test_acc = [x for x in test_acc if str(x) != 'nan']\n",
    "        # print(f\"{model}: {test_acc}\")"
   ]
  },
  {
   "cell_type": "code",
   "execution_count": 5,
   "metadata": {},
   "outputs": [
    {
     "name": "stdout",
     "output_type": "stream",
     "text": [
      "stellar-sweep-113\n",
      "{'mrmr': False, 'epochs': 25, 'dropout': 0.15198839996723343, 'k_order': 3, 'k_degree': 2, 'optimizer': 'adam', 'batch_size': 152, 'learning_rate': 0.00014693506423494527}\n",
      "0.5802536231884059\n"
     ]
    },
    {
     "data": {
      "text/plain": [
       "[0.625,\n",
       " 0.6666666666666666,\n",
       " 0.5416666666666666,\n",
       " 0.5833333333333334,\n",
       " 0.5416666666666666,\n",
       " 0.5833333333333334,\n",
       " 0.6521739130434783,\n",
       " 0.4782608695652174,\n",
       " 0.6521739130434783,\n",
       " 0.4782608695652174]"
      ]
     },
     "execution_count": 5,
     "metadata": {},
     "output_type": "execute_result"
    }
   ],
   "source": [
    "r = all_best_runs['GCN'].values()\n",
    "r = list(r)[0]\n",
    "print(r.name)\n",
    "print(r.config)\n",
    "print(r.summary.get(\"ACC\"))\n",
    "r_accs = r.history()['test_acc']\n",
    "r_accs = [x for x in r_accs if str(x) != 'nan']\n",
    "r_accs"
   ]
  },
  {
   "cell_type": "code",
   "execution_count": 7,
   "metadata": {},
   "outputs": [
    {
     "name": "stdout",
     "output_type": "stream",
     "text": [
      "0.7331521739130434\n",
      "0.05671215834009215\n",
      "[0.75, 0.7916666666666666, 0.6666666666666666, 0.75, 0.6666666666666666, 0.75, 0.6521739130434783, 0.782608695652174, 0.6956521739130435, 0.8260869565217391]\n"
     ]
    }
   ],
   "source": [
    "best_mlp_s1=all_best_runs['GCN'].values()\n",
    "best_mlp_s1 = list(best_mlp_s1)[1]\n",
    "\n",
    "print(best_mlp_s1.summary.get(\"ACC\"))\n",
    "print(best_mlp_s1.summary.get(\"ACC std\"))\n",
    "\n",
    "mlp1_accs = best_mlp_s1.history()['test_acc']\n",
    "\n",
    "mlp1_accs =[x for x in mlp1_accs if str(x) != 'nan']\n",
    "\n",
    "print(mlp1_accs)\n"
   ]
  },
  {
   "cell_type": "code",
   "execution_count": 8,
   "metadata": {},
   "outputs": [
    {
     "name": "stdout",
     "output_type": "stream",
     "text": [
      "4.5920834003238475 0.0013051500194538922\n",
      "0.0013051500194538601\n"
     ]
    }
   ],
   "source": [
    "\n",
    "t, p = stats.ttest_rel(mlp1_accs, r_accs)\n",
    "\n",
    "print(t, p)\n",
    "p2 = 2 * (1 - stats.t.cdf(abs(t), len(mlp1_accs)-1))\n",
    "print(p2)"
   ]
  },
  {
   "cell_type": "code",
   "execution_count": 59,
   "metadata": {},
   "outputs": [
    {
     "name": "stdout",
     "output_type": "stream",
     "text": [
      "[0.6213592233009708, 0.6019417475728155, 0.6407766990291263, 0.6796116504854369, 0.6116504854368932, 0.6310679611650486, 0.6213592233009708, 0.6407766990291263, 0.5631067961165048, 0.6407766990291263]\n",
      "[0.6116504854368932, 0.6893203883495146, 0.6796116504854369, 0.6504854368932039, 0.6893203883495146, 0.6116504854368932, 0.6699029126213593, 0.5825242718446602, 0.5825242718446602, 0.6601941747572816]\n",
      "-1.1739130434782599 0.27055743737938553\n"
     ]
    }
   ],
   "source": [
    "svm_sweeps = all_runs[\"SVM\"]\n",
    "\n",
    "svm1 = svm_sweeps.values()\n",
    "svm_runs = list(svm1)[1]\n",
    "svm_runs2 = list(svm1)[1]\n",
    "\n",
    "# get run named ethereal-sweep-387 from svm_runs\n",
    "\n",
    "run = None\n",
    "for r in svm_runs:\n",
    "    if r.name == \"frosty-sweep-23\":\n",
    "        run = r\n",
    "        break\n",
    "\n",
    "for r in svm_runs2:\n",
    "    if r.name == \"different-sweep-351\":\n",
    "        run2 = r\n",
    "        break\n",
    "\n",
    "svm_accs = run.history()['test_acc']\n",
    "svm_accs2 = run2.history()['test_acc']\n",
    "\n",
    "svm_accs =[x for x in svm_accs if str(x) != 'nan']\n",
    "svm_accs2 =[x for x in svm_accs2 if str(x) != 'nan']\n",
    "print(svm_accs)\n",
    "print(svm_accs2)\n",
    "\n",
    "\n",
    "# do t-test between svm_accs and svm_accs2\n",
    "t, p = stats.ttest_rel(svm_accs, svm_accs2)\n",
    "\n",
    "print(t, p)"
   ]
  },
  {
   "cell_type": "code",
   "execution_count": 47,
   "metadata": {},
   "outputs": [
    {
     "name": "stdout",
     "output_type": "stream",
     "text": [
      "lunar-sweep-101\n"
     ]
    }
   ],
   "source": [
    "def visualize_kan(weight, scale_base):\n",
    "    # define B-spline parameters\n",
    "    grid_size = 3\n",
    "    spline_order = 3\n",
    "    weights = weight\n",
    "    knot_vector = np.concatenate(([-1] * spline_order, np.linspace(-1, 1, grid_size), [1] * spline_order))\n",
    "\n",
    "    t = np.linspace(-1, 1, 100)\n",
    "\n",
    "    spline = BSpline(knot_vector, weights, spline_order)\n",
    "    spline_values = spline(t)\n",
    "    \n",
    "    silu = nn.SiLU()\n",
    "    bias = silu(torch.tensor(t))\n",
    "\n",
    "    spline_values = spline_values + bias.numpy()*scale_base.detach().numpy()\n",
    "\n",
    "    plt.figure(figsize=(4, 3))\n",
    "    plt.plot(t, spline_values, label='B-spline curve')\n",
    "    plt.scatter(np.linspace(-1, 1, len(weights)), weights, color='red', label='Control points')\n",
    "    plt.title('B-spline Curve')\n",
    "    plt.xlabel('t')\n",
    "    plt.ylabel('Value')\n",
    "    plt.legend()\n",
    "    plt.grid(True)\n",
    "    plt.show()\n",
    "\n",
    "def calculate_layer_overlap(model, feature, layer):\n",
    "    weights = model.layers[layer].spline_weight # out, in, grid_size\n",
    "\n",
    "    print(dir(model.layers[layer]))\n",
    "\n",
    "\n"
   ]
  },
  {
   "cell_type": "code",
   "execution_count": 46,
   "metadata": {},
   "outputs": [
    {
     "name": "stdout",
     "output_type": "stream",
     "text": [
      "['B_batch', 'T_destination', '__annotations__', '__call__', '__class__', '__delattr__', '__dict__', '__dir__', '__doc__', '__eq__', '__format__', '__ge__', '__getattr__', '__getattribute__', '__getstate__', '__gt__', '__hash__', '__init__', '__init_subclass__', '__le__', '__lt__', '__module__', '__ne__', '__new__', '__reduce__', '__reduce_ex__', '__repr__', '__setattr__', '__setstate__', '__sizeof__', '__str__', '__subclasshook__', '__weakref__', '_apply', '_backward_hooks', '_backward_pre_hooks', '_buffers', '_call_impl', '_compiled_call_impl', '_forward_hooks', '_forward_hooks_always_called', '_forward_hooks_with_kwargs', '_forward_pre_hooks', '_forward_pre_hooks_with_kwargs', '_get_backward_hooks', '_get_backward_pre_hooks', '_get_name', '_is_full_backward_hook', '_load_from_state_dict', '_load_state_dict_post_hooks', '_load_state_dict_pre_hooks', '_maybe_warn_non_full_backward_hook', '_modules', '_named_members', '_non_persistent_buffers_set', '_parameters', '_register_load_state_dict_pre_hook', '_register_state_dict_hook', '_replicate_for_data_parallel', '_save_to_state_dict', '_slow_forward', '_state_dict_hooks', '_state_dict_pre_hooks', '_version', '_wrapped_call_impl', 'add_module', 'apply', 'b_splines', 'base_activation', 'base_weight', 'bfloat16', 'buffers', 'call_super_init', 'children', 'coef', 'coef2curve', 'compile', 'cpu', 'cuda', 'curve2coef', 'curve2coeff', 'double', 'dump_patches', 'enable_standalone_scale_spline', 'eval', 'extra_repr', 'float', 'forward', 'get_buffer', 'get_extra_state', 'get_parameter', 'get_preacts_postacts', 'get_submodule', 'grid', 'grid_eps', 'grid_size', 'half', 'in_features', 'ipu', 'load_state_dict', 'mask', 'modules', 'named_buffers', 'named_children', 'named_modules', 'named_parameters', 'og_grid', 'out_features', 'parameters', 'register_backward_hook', 'register_buffer', 'register_forward_hook', 'register_forward_pre_hook', 'register_full_backward_hook', 'register_full_backward_pre_hook', 'register_load_state_dict_post_hook', 'register_module', 'register_parameter', 'register_state_dict_pre_hook', 'regularization_loss', 'requires_grad_', 'reset_parameters', 'scale_base', 'scale_noise', 'scale_spline', 'scaled_spline_weight', 'set_extra_state', 'share_memory', 'size', 'spline_order', 'spline_scaler', 'spline_weight', 'state_dict', 'to', 'to_empty', 'train', 'training', 'type', 'update_grid', 'weight_sharing', 'xpu', 'zero_grad']\n"
     ]
    }
   ],
   "source": [
    "best_kans = all_best_runs['KAN'].values()\n",
    "best_kans = list(best_kans)\n",
    "\n",
    "mrmr_adam_kan = best_kans[3]\n",
    "gs = mrmr_adam_kan.config['grid_size']\n",
    "model = KAN([55,8,2], gs)\n",
    "# cp = torch.load(f\"models/saved/KAN/{mrmr_adam_kan.name}.pth\", map_location=DEVICE)\n",
    "# model.load_state_dict(cp)\n",
    "\n",
    "# get the first layer weights\n",
    "\n",
    "calculate_layer_overlap(model, None, 0)\n",
    "\n",
    "\n"
   ]
  },
  {
   "cell_type": "code",
   "execution_count": 8,
   "metadata": {},
   "outputs": [
    {
     "name": "stdout",
     "output_type": "stream",
     "text": [
      "models/saved/KAN/honest-sweep-45.pth\n",
      "False LBFGS\n",
      "models/saved/KAN/glorious-sweep-83.pth\n",
      "False Adam\n",
      "models/saved/KAN/daily-sweep-67.pth\n",
      "True LBFGS\n",
      "models/saved/KAN/lunar-sweep-101.pth\n",
      "True Adam\n"
     ]
    }
   ],
   "source": [
    "ds = \"data/csv/severe_rds_v2.csv\"\n",
    "u8_ds = \"data/csv/rds_under_8_severe_v2.csv\"\n",
    "data_dir = \"data/fetched/25751/raw\"\n",
    "\n",
    "mrmr_features = np.array([1140, 689, 427, 122, 139, 765, 907, 1384, 22, 1293, 1449, 492, 1440, 499, 1316, 1318, 135, 879, 886, 223, 1455, 676, 1136, 1464, 70, 1462, 1386, 939, 111, 413, 10, 1403, 1027, 547, 395, 1210, 942, 501, 45, 425, 638, 505, 26, 1409, 1448, 605, 232, 1459, 821, 1394, 1376, 809, 1163, 216, 791]\n",
    "            )\n",
    "\n",
    "mrmr_features_u8 = np.array([1035, 382, 967, 1316, 34, 852, 761, 480, 875, 1357, 1203, 686, 415, 248, 1230, 1370, 1275, 466, 1274, 126, 840, 1470, 448, 629, 1292, 922, 617, 168, 946, 1372, 131, 219, 1247, 413, 72, 496, 880, 275, 863, 11, 571, 147, 877, 843, 92, 124, 1157, 1457, 249, 1126, 741, 1289, 1270, 1453, 742]\n",
    "            )\n",
    "\n",
    "\n",
    "mrmr_dataset = FCMatrixDataset(ds, data_dir, \"25751\", None, mrmr=mrmr_features)\n",
    "mrmr_u8_dataset = FCMatrixDataset(u8_ds, data_dir, \"25751\", None, mrmr=mrmr_features_u8)\n",
    "dataset = FCMatrixDataset(ds, data_dir, \"25751\", None)\n",
    "\n",
    "models = {\"MLP\": MLP, \"KAN\":KAN, \"SVM\": \"SVM\"}\n",
    "\n",
    "for model_type in all_best_runs.keys():\n",
    "    for run in all_best_runs[model_type].values():\n",
    "        c = run.config\n",
    "        # print(c)\n",
    "        # print(model_type)\n",
    "\n",
    "        if model_type == \"GCN\":\n",
    "            # jump to next iteration\n",
    "            continue\n",
    "        if model_type == \"MLP\" or model_type == \"KAN\":\n",
    "            input_features = 55 if c['mrmr'] else 1485\n",
    "\n",
    "            cp = torch.load(f\"models/saved/{model_type}/{run.name}.pth\", map_location=DEVICE)\n",
    "\n",
    "        if model_type == \"MLP\":\n",
    "            hidden_dims = [int(c['layer_size'] * c['hidden_dim_ratio'] ** i) for i in range(c['n_layers'])]\n",
    "            model = MLP(input_features, hidden_dims, 2, c['dropout']).to(DEVICE)\n",
    "            model.load_state_dict(cp)\n",
    "\n",
    "        if model_type == \"KAN\":\n",
    "            hidden_dims = [int(c['layer_size'] * c['hidden_dim_ratio'] ** i) for i in range(c['n_layers'])]\n",
    "            dims = [input_features] + hidden_dims + [2]\n",
    "            model = KAN(dims, c['grid_size']).to(DEVICE)\n",
    "            model.load_state_dict(cp)\n",
    "            print(f\"models/saved/{model_type}/{run.name}.pth\")\n",
    "            print(c[\"mrmr\"], c[\"optimizer\"])\n",
    "\n",
    "        if model_type == \"SVM\":\n",
    "            model = svm.SVC(kernel= c['kernel'], C=c['C'], gamma=c['gamma'], degree=c['degree'])\n",
    "\n",
    "        if c[\"mrmr\"] == True:\n",
    "            X = torch.tensor(np.array([np.array(i[0]) for i in mrmr_dataset]))\n",
    "            y = torch.tensor(np.array([i[1] for i in mrmr_dataset]))\n",
    "        else:\n",
    "            X = torch.tensor(np.array([np.array(i[0]) for i in dataset]))\n",
    "            y = torch.tensor(np.array([i[1] for i in dataset]))\n",
    "\n",
    "\n",
    "        # model.fit(X, y)\n",
    "        # explainer = shap.DeepExplainer(model.predict, X)\n",
    "        # shap_values = explainer.shap_values(np.array(X)[:5])\n",
    "        # # shap.summary_plot(shap_values)\n",
    "\n",
    "        # shap_v_summed = np.mean(np.abs(shap_values[0]), axis=0) + np.mean(np.abs(shap_values[1]), axis=0)\n",
    "        # sorted_idx = np.argsort(shap_v_summed)[::-1]\n",
    "        # print(sorted_idx)\n",
    "\n",
    "\n",
    "\n",
    "        # print(run.name)\n",
    "        \n",
    "\n"
   ]
  },
  {
   "cell_type": "code",
   "execution_count": null,
   "metadata": {},
   "outputs": [],
   "source": []
  },
  {
   "cell_type": "code",
   "execution_count": 47,
   "metadata": {},
   "outputs": [
    {
     "data": {
      "text/plain": [
       "'elated-sweep-160'"
      ]
     },
     "execution_count": 47,
     "metadata": {},
     "output_type": "execute_result"
    }
   ],
   "source": []
  }
 ],
 "metadata": {
  "kernelspec": {
   "display_name": "mridc",
   "language": "python",
   "name": "python3"
  },
  "language_info": {
   "codemirror_mode": {
    "name": "ipython",
    "version": 3
   },
   "file_extension": ".py",
   "mimetype": "text/x-python",
   "name": "python",
   "nbconvert_exporter": "python",
   "pygments_lexer": "ipython3",
   "version": "3.9.7"
  }
 },
 "nbformat": 4,
 "nbformat_minor": 2
}
