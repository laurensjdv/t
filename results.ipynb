{
 "cells": [
  {
   "cell_type": "code",
   "execution_count": 2,
   "metadata": {},
   "outputs": [
    {
     "name": "stderr",
     "output_type": "stream",
     "text": [
      "IProgress not found. Please update jupyter and ipywidgets. See https://ipywidgets.readthedocs.io/en/stable/user_install.html\n"
     ]
    }
   ],
   "source": [
    "import scipy.stats as stats\n",
    "from scipy.interpolate import BSpline\n",
    "\n",
    "import numpy as np\n",
    "import pandas as pd\n",
    "import matplotlib.pyplot as plt\n",
    "import os\n",
    "import shap\n",
    "\n",
    "\n",
    "from efficient_kan import KAN\n",
    "from models.mlp import MLP\n",
    "from sklearn import svm\n",
    "\n",
    "\n",
    "import torch\n",
    "import torch.nn as nn\n",
    "\n",
    "from kan.utils import create_dataset\n",
    "from dataloaders.dataloader import FCMatrixDataset\n",
    "from torch.utils.data import Dataset, DataLoader, Subset\n",
    "\n",
    "DEVICE = torch.device(\"cuda\" if torch.cuda.is_available() else \"cpu\")\n",
    "DEVICE = torch.device(\"cpu\")\n"
   ]
  },
  {
   "cell_type": "code",
   "execution_count": 12,
   "metadata": {},
   "outputs": [
    {
     "name": "stdout",
     "output_type": "stream",
     "text": [
      "dict_values([<Project laurens-devries/rds_under_8_severe_v2_MLP>, <Project laurens-devries/rds_under_8_severe_v2_KAN_api>, <Project laurens-devries/rds_under_8_severe_v2_SVM>])\n"
     ]
    }
   ],
   "source": [
    "import wandb\n",
    "wandb.login()\n",
    "\n",
    "# mlp_project = \"severe_rds_v2_MLP\"\n",
    "# gcn_project = \"severe_rds_v2_GCN\"\n",
    "# kan_project = \"severe_rds_v2_KAN_api\"\n",
    "# svm_project = \"severe_rds_v2_SVM\"\n",
    "\n",
    "mlp_project = \"rds_under_8_severe_v2_MLP\"\n",
    "# gcn_project = \"rds_under_8_severe_v2_GCN\"\n",
    "kan_project = \"rds_under_8_severe_v2_KAN_api\"\n",
    "svm_project = \"rds_under_8_severe_v2_SVM\"\n",
    "\n",
    "api = wandb.Api()\n",
    "\n",
    "# projects = {\"MLP\": api.project(\"severe_rds_MLP\"), \"GCN\": api.project(\"severe_rds_GCN_mrmr_25751\"), \"KAN\": api.project(\"severe_rds_KAN_api\"), \"SVM\": api.project(\"severe_rds_SVM\")}\n",
    "projects = {\"MLP\": api.project(mlp_project), \"KAN\": api.project(kan_project), \"SVM\": api.project(svm_project)}\n",
    "\n",
    "print(projects.values())\n",
    "\n",
    "all_sweeps = {}\n",
    "for name, project in projects.items():\n",
    "    all_sweeps[name] = [api.sweep(f\"{project.name}/{sweep.id}\") for sweep in project.sweeps()]\n",
    "\n",
    "all_runs = {project_name: {sweep.id:sweep.runs for sweep in sweeps} for (project_name, sweeps) in all_sweeps.items()}\n",
    "\n",
    "\n",
    "all_best_runs = {}\n",
    "\n",
    "for name, sweeps in all_runs.items():\n",
    "    project_sweeps = {}\n",
    "    for (sweep_name, sweep) in sweeps.items():\n",
    "        best_run = None\n",
    "        best_acc = -1\n",
    "        for run in sweep:\n",
    "\n",
    "            ACC = run.summary.get(\"ACC\")\n",
    "            if ACC is not None and ACC > best_acc:\n",
    "                best_run = run\n",
    "                best_acc = ACC\n",
    "        project_sweeps[sweep_name] = best_run\n",
    "    all_best_runs[name] = project_sweeps\n",
    "\n",
    "\n",
    "# for name, runs in all_runs.items():\n",
    "#     print(runs)\n",
    "#     best_run = None\n",
    "#     best_acc = -1\n",
    "#     for run in runs:\n",
    "#         ACC = run.summary.get(\"ACC\")\n",
    "#         if ACC is not None and ACC > best_acc:\n",
    "#             best_run = run\n",
    "#             best_acc = ACC\n",
    "\n",
    "\n"
   ]
  },
  {
   "cell_type": "code",
   "execution_count": 11,
   "metadata": {},
   "outputs": [
    {
     "name": "stdout",
     "output_type": "stream",
     "text": [
      "MLP 64.1 3.4 64.1 3.4\n",
      "{'udi': 25751, 'mrmr': True, 'epochs': 25, 'dropout': 0.14819207263085396, 'n_layers': 3, 'optimizer': 'Adam', 'batch_size': 40, 'layer_size': 32, 'learning_rate': 0.00028067173441986674, 'hidden_dim_ratio': 0.5}\n",
      "MLP\n",
      "hopeful-sweep-10\n",
      "MLP 54.6 5.8 54.6 5.8\n",
      "{'udi': 25751, 'mrmr': False, 'epochs': 25, 'dropout': 0.009199087357563496, 'n_layers': 2, 'optimizer': 'Adam', 'batch_size': 104, 'layer_size': 64, 'learning_rate': 0.0005562109636298198, 'hidden_dim_ratio': 0.5}\n",
      "MLP\n",
      "gentle-sweep-17\n",
      "GCN 52.9 3.6 52.9 3.7\n",
      "{'mrmr': False, 'epochs': 25, 'dropout': 0.180929348594137, 'k_order': 7, 'k_degree': 10, 'optimizer': 'adam', 'batch_size': 96, 'learning_rate': 0.0007287092393359959}\n",
      "GCN\n",
      "quiet-sweep-41\n",
      "GCN 52.8 4.3 52.9 4.3\n",
      "{'mrmr': True, 'epochs': 25, 'dropout': 0.4720766135495867, 'k_order': 5, 'k_degree': 2, 'optimizer': 'adam', 'batch_size': 88, 'learning_rate': 3.354077125926464e-05}\n",
      "GCN\n",
      "fiery-sweep-20\n",
      "KAN 54.6 2.4 54.7 2.4\n",
      "{'udi': 25751, 'lamb': 0, 'mrmr': False, 'epochs': 25, 'n_layers': 3, 'grid_size': 5, 'optimizer': 'Adam', 'layer_size': 64, 'lamb_entropy': 0, 'learning_rate': 0.0005531353409896489, 'hidden_dim_ratio': 0.25}\n",
      "KAN\n",
      "stellar-sweep-92\n",
      "KAN 52.3 4.6 52.4 4.7\n",
      "{'udi': 25751, 'lamb': 0.1, 'mrmr': False, 'epochs': 25, 'n_layers': 1, 'grid_size': 3, 'optimizer': 'LBFGS', 'layer_size': 32, 'lamb_entropy': 2, 'learning_rate': 0.007043114827302942, 'hidden_dim_ratio': 0.25}\n",
      "KAN\n",
      "woven-sweep-1\n",
      "KAN 58.6 5.0 58.6 5.1\n",
      "{'udi': 25751, 'lamb': 0, 'mrmr': True, 'epochs': 25, 'n_layers': 1, 'grid_size': 5, 'optimizer': 'LBFGS', 'layer_size': 32, 'lamb_entropy': 2, 'learning_rate': 0.0021673713001383434, 'hidden_dim_ratio': 0.125}\n",
      "KAN\n",
      "sage-sweep-51\n",
      "KAN 63.2 3.1 63.2 3.0\n",
      "{'udi': 25751, 'lamb': 0, 'mrmr': True, 'epochs': 25, 'n_layers': 2, 'grid_size': 3, 'optimizer': 'Adam', 'layer_size': 8, 'lamb_entropy': 100, 'learning_rate': 0.006880353643394132, 'hidden_dim_ratio': 0.5}\n",
      "KAN\n",
      "earthy-sweep-105\n",
      "SVM 54.4 5.5 54.4 5.5\n",
      "{'C': 0.01, 'udi': 25751, 'mrmr': False, 'gamma': 1, 'degree': 4, 'kernel': 'linear'}\n",
      "SVM\n",
      "feasible-sweep-400\n",
      "SVM 64.3 4.0 64.3 4.0\n",
      "{'C': 0.1, 'udi': 25751, 'mrmr': True, 'gamma': 0.001, 'degree': 4, 'kernel': 'sigmoid'}\n",
      "SVM\n",
      "different-sweep-351\n"
     ]
    }
   ],
   "source": [
    "for model in all_best_runs.keys():\n",
    "    for run in all_best_runs[model].values():\n",
    "        # print(model, run.summary.get(\"ACC\"), run.summary.get(\"ACC std\"), run.summary.get(\"AUC\"), run.summary.get(\"AUC std\"))\n",
    "        # print the line above but multiply by 100 and round to get 1 decimal\n",
    "        print(model, round(run.summary.get(\"ACC\")*100, 1), round(run.summary.get(\"ACC std\")*100, 1), round(run.summary.get(\"AUC\")*100, 1), round(run.summary.get(\"AUC std\")*100, 1))\n",
    "        # print(f\"{model}: {run.summary.get('ACC')}\")\n",
    "        print(run.config)\n",
    "        print(model)\n",
    "        print(run.name)\n",
    "\n",
    "        test_acc = run.history()['test_acc']\n",
    "        test_acc = [x for x in test_acc if str(x) != 'nan']\n",
    "        # print(f\"{model}: {test_acc}\")"
   ]
  },
  {
   "cell_type": "code",
   "execution_count": 14,
   "metadata": {},
   "outputs": [
    {
     "name": "stdout",
     "output_type": "stream",
     "text": [
      "different-sweep-351\n",
      "{'C': 0.1, 'udi': 25751, 'mrmr': True, 'gamma': 0.001, 'degree': 4, 'kernel': 'sigmoid'}\n",
      "0.6427184466019418\n"
     ]
    },
    {
     "data": {
      "text/plain": [
       "[0.6116504854368932,\n",
       " 0.6893203883495146,\n",
       " 0.6796116504854369,\n",
       " 0.6504854368932039,\n",
       " 0.6893203883495146,\n",
       " 0.6116504854368932,\n",
       " 0.6699029126213593,\n",
       " 0.5825242718446602,\n",
       " 0.5825242718446602,\n",
       " 0.6601941747572816]"
      ]
     },
     "execution_count": 14,
     "metadata": {},
     "output_type": "execute_result"
    }
   ],
   "source": [
    "r = all_best_runs['SVM'].values()\n",
    "r = list(r)[1]\n",
    "print(r.name)\n",
    "print(r.config)\n",
    "print(r.summary.get(\"ACC\"))\n",
    "r_accs = r.history()['test_acc']\n",
    "r_accs = [x for x in r_accs if str(x) != 'nan']\n",
    "r_accs"
   ]
  },
  {
   "cell_type": "code",
   "execution_count": 30,
   "metadata": {},
   "outputs": [
    {
     "name": "stdout",
     "output_type": "stream",
     "text": [
      "0.5929347826086957\n",
      "[0.5833333333333334, 0.7083333333333334, 0.5416666666666666, 0.7083333333333334, 0.5416666666666666, 0.5416666666666666, 0.6956521739130435, 0.5652173913043478, 0.43478260869565216, 0.6086956521739131]\n"
     ]
    }
   ],
   "source": [
    "best_mlp_s1=all_best_runs['MLP']['kd0oas4g']\n",
    "\n",
    "print(best_mlp_s1.summary.get(\"ACC\"))\n",
    "mlp1_accs = best_mlp_s1.history()['test_acc']\n",
    "\n",
    "mlp1_accs =[x for x in mlp1_accs if str(x) != 'nan']\n",
    "\n",
    "print(mlp1_accs)\n"
   ]
  },
  {
   "cell_type": "code",
   "execution_count": 31,
   "metadata": {},
   "outputs": [
    {
     "name": "stdout",
     "output_type": "stream",
     "text": [
      "-4.733809684820553 0.0010681695963258213\n",
      "0.0010681695963259408\n"
     ]
    }
   ],
   "source": [
    "\n",
    "t, p = stats.ttest_rel(mlp1_accs, r_accs)\n",
    "\n",
    "print(t, p)\n",
    "p2 = 2 * (1 - stats.t.cdf(abs(t), len(mlp1_accs)-1))\n",
    "print(p2)"
   ]
  },
  {
   "cell_type": "code",
   "execution_count": null,
   "metadata": {},
   "outputs": [],
   "source": [
    "def visualize_kan(weight, scale_base):\n",
    "    # define B-spline parameters\n",
    "    grid_size = 3\n",
    "    spline_order = 3\n",
    "    weights = weight\n",
    "    knot_vector = np.concatenate(([-1] * spline_order, np.linspace(-1, 1, grid_size), [1] * spline_order))\n",
    "\n",
    "    t = np.linspace(-1, 1, 100)\n",
    "\n",
    "    spline = BSpline(knot_vector, weights, spline_order)\n",
    "    spline_values = spline(t)\n",
    "    \n",
    "    silu = nn.SiLU()\n",
    "    bias = silu(torch.tensor(t))\n",
    "\n",
    "    spline_values = spline_values + bias.numpy()*scale_base.detach().numpy()\n",
    "\n",
    "    plt.figure(figsize=(4, 3))\n",
    "    plt.plot(t, spline_values, label='B-spline curve')\n",
    "    plt.scatter(np.linspace(-1, 1, len(weights)), weights, color='red', label='Control points')\n",
    "    plt.title('B-spline Curve')\n",
    "    plt.xlabel('t')\n",
    "    plt.ylabel('Value')\n",
    "    plt.legend()\n",
    "    plt.grid(True)\n",
    "    plt.show()"
   ]
  },
  {
   "cell_type": "code",
   "execution_count": 8,
   "metadata": {},
   "outputs": [
    {
     "name": "stdout",
     "output_type": "stream",
     "text": [
      "models/saved/KAN/honest-sweep-45.pth\n",
      "False LBFGS\n",
      "models/saved/KAN/glorious-sweep-83.pth\n",
      "False Adam\n",
      "models/saved/KAN/daily-sweep-67.pth\n",
      "True LBFGS\n",
      "models/saved/KAN/lunar-sweep-101.pth\n",
      "True Adam\n"
     ]
    }
   ],
   "source": [
    "ds = \"data/csv/severe_rds_v2.csv\"\n",
    "u8_ds = \"data/csv/rds_under_8_severe_v2.csv\"\n",
    "data_dir = \"data/fetched/25751/raw\"\n",
    "\n",
    "mrmr_features = np.array([1140, 689, 427, 122, 139, 765, 907, 1384, 22, 1293, 1449, 492, 1440, 499, 1316, 1318, 135, 879, 886, 223, 1455, 676, 1136, 1464, 70, 1462, 1386, 939, 111, 413, 10, 1403, 1027, 547, 395, 1210, 942, 501, 45, 425, 638, 505, 26, 1409, 1448, 605, 232, 1459, 821, 1394, 1376, 809, 1163, 216, 791]\n",
    "            )\n",
    "\n",
    "mrmr_features_u8 = np.array([1035, 382, 967, 1316, 34, 852, 761, 480, 875, 1357, 1203, 686, 415, 248, 1230, 1370, 1275, 466, 1274, 126, 840, 1470, 448, 629, 1292, 922, 617, 168, 946, 1372, 131, 219, 1247, 413, 72, 496, 880, 275, 863, 11, 571, 147, 877, 843, 92, 124, 1157, 1457, 249, 1126, 741, 1289, 1270, 1453, 742]\n",
    "            )\n",
    "\n",
    "\n",
    "mrmr_dataset = FCMatrixDataset(ds, data_dir, \"25751\", None, mrmr=mrmr_features)\n",
    "mrmr_u8_dataset = FCMatrixDataset(u8_ds, data_dir, \"25751\", None, mrmr=mrmr_features_u8)\n",
    "dataset = FCMatrixDataset(ds, data_dir, \"25751\", None)\n",
    "\n",
    "models = {\"MLP\": MLP, \"KAN\":KAN, \"SVM\": \"SVM\"}\n",
    "\n",
    "for model_type in all_best_runs.keys():\n",
    "    for run in all_best_runs[model_type].values():\n",
    "        c = run.config\n",
    "        # print(c)\n",
    "        # print(model_type)\n",
    "\n",
    "        if model_type == \"GCN\":\n",
    "            # jump to next iteration\n",
    "            continue\n",
    "        if model_type == \"MLP\" or model_type == \"KAN\":\n",
    "            input_features = 55 if c['mrmr'] else 1485\n",
    "\n",
    "            cp = torch.load(f\"models/saved/{model_type}/{run.name}.pth\", map_location=DEVICE)\n",
    "\n",
    "        if model_type == \"MLP\":\n",
    "            hidden_dims = [int(c['layer_size'] * c['hidden_dim_ratio'] ** i) for i in range(c['n_layers'])]\n",
    "            model = MLP(input_features, hidden_dims, 2, c['dropout']).to(DEVICE)\n",
    "            model.load_state_dict(cp)\n",
    "\n",
    "        if model_type == \"KAN\":\n",
    "            hidden_dims = [int(c['layer_size'] * c['hidden_dim_ratio'] ** i) for i in range(c['n_layers'])]\n",
    "            dims = [input_features] + hidden_dims + [2]\n",
    "            model = KAN(dims, c['grid_size']).to(DEVICE)\n",
    "            model.load_state_dict(cp)\n",
    "            print(f\"models/saved/{model_type}/{run.name}.pth\")\n",
    "            print(c[\"mrmr\"], c[\"optimizer\"])\n",
    "\n",
    "        if model_type == \"SVM\":\n",
    "            model = svm.SVC(kernel= c['kernel'], C=c['C'], gamma=c['gamma'], degree=c['degree'])\n",
    "\n",
    "        if c[\"mrmr\"] == True:\n",
    "            X = torch.tensor(np.array([np.array(i[0]) for i in mrmr_dataset]))\n",
    "            y = torch.tensor(np.array([i[1] for i in mrmr_dataset]))\n",
    "        else:\n",
    "            X = torch.tensor(np.array([np.array(i[0]) for i in dataset]))\n",
    "            y = torch.tensor(np.array([i[1] for i in dataset]))\n",
    "\n",
    "\n",
    "        # model.fit(X, y)\n",
    "        # explainer = shap.DeepExplainer(model.predict, X)\n",
    "        # shap_values = explainer.shap_values(np.array(X)[:5])\n",
    "        # # shap.summary_plot(shap_values)\n",
    "\n",
    "        # shap_v_summed = np.mean(np.abs(shap_values[0]), axis=0) + np.mean(np.abs(shap_values[1]), axis=0)\n",
    "        # sorted_idx = np.argsort(shap_v_summed)[::-1]\n",
    "        # print(sorted_idx)\n",
    "\n",
    "\n",
    "\n",
    "        # print(run.name)\n",
    "        \n",
    "\n"
   ]
  },
  {
   "cell_type": "code",
   "execution_count": null,
   "metadata": {},
   "outputs": [],
   "source": []
  },
  {
   "cell_type": "code",
   "execution_count": 47,
   "metadata": {},
   "outputs": [
    {
     "data": {
      "text/plain": [
       "'elated-sweep-160'"
      ]
     },
     "execution_count": 47,
     "metadata": {},
     "output_type": "execute_result"
    }
   ],
   "source": []
  }
 ],
 "metadata": {
  "kernelspec": {
   "display_name": "mridc",
   "language": "python",
   "name": "python3"
  },
  "language_info": {
   "codemirror_mode": {
    "name": "ipython",
    "version": 3
   },
   "file_extension": ".py",
   "mimetype": "text/x-python",
   "name": "python",
   "nbconvert_exporter": "python",
   "pygments_lexer": "ipython3",
   "version": "3.9.7"
  }
 },
 "nbformat": 4,
 "nbformat_minor": 2
}
